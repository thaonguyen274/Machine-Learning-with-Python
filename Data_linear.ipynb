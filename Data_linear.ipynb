{
  "nbformat": 4,
  "nbformat_minor": 0,
  "metadata": {
    "colab": {
      "name": "Data linear.ipynb",
      "provenance": [],
      "collapsed_sections": [],
      "mount_file_id": "1nvqsLvXtMN546efQ5YgP59S0YYBf_OX7",
      "authorship_tag": "ABX9TyMK1vrOyjK8HQHFEm8sr5hl",
      "include_colab_link": true
    },
    "kernelspec": {
      "name": "python3",
      "display_name": "Python 3"
    },
    "language_info": {
      "name": "python"
    }
  },
  "cells": [
    {
      "cell_type": "markdown",
      "metadata": {
        "id": "view-in-github",
        "colab_type": "text"
      },
      "source": [
        "<a href=\"https://colab.research.google.com/github/thaonguyen274/Machine-Learning-with-Python/blob/main/Data_linear.ipynb\" target=\"_parent\"><img src=\"https://colab.research.google.com/assets/colab-badge.svg\" alt=\"Open In Colab\"/></a>"
      ]
    },
    {
      "cell_type": "code",
      "metadata": {
        "id": "eFRUc-9QJKPe"
      },
      "source": [
        ""
      ],
      "execution_count": null,
      "outputs": []
    },
    {
      "cell_type": "code",
      "metadata": {
        "id": "o30t47MMJarK"
      },
      "source": [
        "import numpy as np\n",
        "import pandas as pd\n",
        "import matplotlib.pyplot as plt"
      ],
      "execution_count": null,
      "outputs": []
    },
    {
      "cell_type": "code",
      "metadata": {
        "colab": {
          "base_uri": "https://localhost:8080/"
        },
        "id": "H4wQSd3wLL7x",
        "outputId": "7858b558-6f06-4d96-c7b6-c5281480a0c5"
      },
      "source": [
        "%cd'/content/drive/MyDrive/DATA PREPARATION /ML /Week 3'\n",
        "!ls"
      ],
      "execution_count": null,
      "outputs": [
        {
          "output_type": "stream",
          "name": "stdout",
          "text": [
            "/content/drive/MyDrive/DATA PREPARATION /ML /Week 3\n",
            " Boston-housing.ipynb   data_linear.csv  'Data linear.ipynb'\n"
          ]
        }
      ]
    },
    {
      "cell_type": "code",
      "metadata": {
        "id": "0EDL8fKRJh30"
      },
      "source": [
        "data = pd.read_csv('data_linear.csv').values\n",
        "N = data.shape[0]\n",
        "x = data[:, 0].reshape(-1, 1)\n",
        "y = data[:, 1].reshape(-1, 1)"
      ],
      "execution_count": null,
      "outputs": []
    },
    {
      "cell_type": "code",
      "metadata": {
        "colab": {
          "base_uri": "https://localhost:8080/",
          "height": 297
        },
        "id": "GB-NLdeTJqj0",
        "outputId": "a6208369-3bcb-438e-8a92-da5531524f6c"
      },
      "source": [
        "plt.scatter(x, y)\n",
        "plt.xlabel('mét vuông')\n",
        "plt.ylabel('giá')"
      ],
      "execution_count": null,
      "outputs": [
        {
          "output_type": "execute_result",
          "data": {
            "text/plain": [
              "Text(0, 0.5, 'giá')"
            ]
          },
          "metadata": {},
          "execution_count": 35
        },
        {
          "output_type": "display_data",
          "data": {
            "image/png": "[encoded data removed]",
            "text/plain": [
              "<Figure size 432x288 with 1 Axes>"
            ]
          },
          "metadata": {
            "needs_background": "light"
          }
        }
      ]
    },
    {
      "cell_type": "code",
      "metadata": {
        "id": "vZOtdTg9Jt2B"
      },
      "source": [
        "x = np.hstack((np.ones((N, 1)), x))\n",
        "\n",
        "w = np.array([0.,1.]).reshape(-1,1)"
      ],
      "execution_count": null,
      "outputs": []
    },
    {
      "cell_type": "code",
      "metadata": {
        "id": "oxt3ozMNLxXT"
      },
      "source": [
        "numOfIteration = 100\n",
        "cost = np.zeros((numOfIteration,1))\n",
        "learning_rate = 0.000001"
      ],
      "execution_count": null,
      "outputs": []
    },
    {
      "cell_type": "code",
      "metadata": {
        "colab": {
          "base_uri": "https://localhost:8080/"
        },
        "id": "UMp3WQ9ZL2XJ",
        "outputId": "f9ec3a3c-d965-4978-ff7f-480c55061577"
      },
      "source": [
        "for i in range(1, numOfIteration):\n",
        "    r = np.dot(x, w) - y\n",
        "    cost[i] = 0.5*np.sum(r*r)\n",
        "    w[0] -= learning_rate*np.sum(r)\n",
        "    # correct the shape dimension\n",
        "    w[1] -= learning_rate*np.sum(np.multiply(r, x[:,1].reshape(-1,1)))\n",
        "    print(cost[i])\n",
        "predict = np.dot(x, w)"
      ],
      "execution_count": null,
      "outputs": [
        {
          "output_type": "stream",
          "name": "stdout",
          "text": [
            "[13929872.64455245]\n",
            "[10306582.37422079]\n",
            "[7625999.18237673]\n",
            "[5642849.69326854]\n",
            "[4175675.71851866]\n",
            "[3090230.83195734]\n",
            "[2287196.82094014]\n",
            "[1693096.06938209]\n",
            "[1253568.35550934]\n",
            "[928396.89128833]\n",
            "[687828.48611463]\n",
            "[509851.12972016]\n",
            "[378179.89312088]\n",
            "[280766.8575313]\n",
            "[208698.72973386]\n",
            "[155381.27570385]\n",
            "[115935.94816237]\n",
            "[86753.4994753]\n",
            "[65163.7354763]\n",
            "[49191.19268689]\n",
            "[37374.38339803]\n",
            "[28632.06953731]\n",
            "[22164.32937972]\n",
            "[17379.36470576]\n",
            "[13839.35126131]\n",
            "[11220.37783611]\n",
            "[9282.80838638]\n",
            "[7849.35533562]\n",
            "[6788.85776037]\n",
            "[6004.28016513]\n",
            "[5423.83373397]\n",
            "[4994.40765352]\n",
            "[4676.70947326]\n",
            "[4441.66984614]\n",
            "[4267.78268312]\n",
            "[4139.13734594]\n",
            "[4043.96282366]\n",
            "[3973.55068504]\n",
            "[3921.4582571]\n",
            "[3882.91912046]\n",
            "[3854.40698198]\n",
            "[3833.3130189]\n",
            "[3817.70717153]\n",
            "[3806.16154282]\n",
            "[3797.61974572]\n",
            "[3791.30024382]\n",
            "[3786.62484071]\n",
            "[3783.16577503]\n",
            "[3780.60658031]\n",
            "[3778.71312826]\n",
            "[3777.31220606]\n",
            "[3776.27566738]\n",
            "[3775.50870698]\n",
            "[3774.94118601]\n",
            "[3774.52121437]\n",
            "[3774.21040269]\n",
            "[3773.98034975]\n",
            "[3773.81004376]\n",
            "[3773.68393976]\n",
            "[3773.59053729]\n",
            "[3773.52132808]\n",
            "[3773.47001751]\n",
            "[3773.43194874]\n",
            "[3773.4036765]\n",
            "[3773.38265195]\n",
            "[3773.36698937]\n",
            "[3773.3552937]\n",
            "[3773.34653282]\n",
            "[3773.33994316]\n",
            "[3773.33495981]\n",
            "[3773.33116485]\n",
            "[3773.32824908]\n",
            "[3773.32598375]\n",
            "[3773.32419963]\n",
            "[3773.32277153]\n",
            "[3773.32160681]\n",
            "[3773.32063694]\n",
            "[3773.31981124]\n",
            "[3773.31909219]\n",
            "[3773.31845205]\n",
            "[3773.31787028]\n",
            "[3773.3173317]\n",
            "[3773.31682507]\n",
            "[3773.31634209]\n",
            "[3773.31587659]\n",
            "[3773.31542403]\n",
            "[3773.31498104]\n",
            "[3773.31454514]\n",
            "[3773.31411448]\n",
            "[3773.3136877]\n",
            "[3773.31326379]\n",
            "[3773.312842]\n",
            "[3773.31242178]\n",
            "[3773.31200273]\n",
            "[3773.31158454]\n",
            "[3773.31116698]\n",
            "[3773.3107499]\n",
            "[3773.31033317]\n",
            "[3773.3099167]\n"
          ]
        }
      ]
    },
    {
      "cell_type": "code",
      "metadata": {
        "colab": {
          "base_uri": "https://localhost:8080/",
          "height": 112
        },
        "id": "g3qOXysyMKYU",
        "outputId": "bd91e32f-2597-4bbe-bcb2-51d21c11f671"
      },
      "source": [
        "x = np.array([50,100,150])\n",
        "y = w[0] + w[1] * x\n",
        "cost = pd.DataFrame(data=[x, y], index=['Diện tích', 'Giá nhà'])\n",
        "cost"
      ],
      "execution_count": null,
      "outputs": [
        {
          "output_type": "execute_result",
          "data": {
            "text/html": [
              "<div>\n",
              "<style scoped>\n",
              "    .dataframe tbody tr th:only-of-type {\n",
              "        vertical-align: middle;\n",
              "    }\n",
              "\n",
              "    .dataframe tbody tr th {\n",
              "        vertical-align: top;\n",
              "    }\n",
              "\n",
              "    .dataframe thead th {\n",
              "        text-align: right;\n",
              "    }\n",
              "</style>\n",
              "<table border=\"1\" class=\"dataframe\">\n",
              "  <thead>\n",
              "    <tr style=\"text-align: right;\">\n",
              "      <th></th>\n",
              "      <th>0</th>\n",
              "      <th>1</th>\n",
              "      <th>2</th>\n",
              "    </tr>\n",
              "  </thead>\n",
              "  <tbody>\n",
              "    <tr>\n",
              "      <th>Diện tích</th>\n",
              "      <td>50.000000</td>\n",
              "      <td>100.000000</td>\n",
              "      <td>150.000000</td>\n",
              "    </tr>\n",
              "    <tr>\n",
              "      <th>Giá nhà</th>\n",
              "      <td>755.687951</td>\n",
              "      <td>1511.181168</td>\n",
              "      <td>2266.674386</td>\n",
              "    </tr>\n",
              "  </tbody>\n",
              "</table>\n",
              "</div>"
            ],
            "text/plain": [
              "                    0            1            2\n",
              "Diện tích   50.000000   100.000000   150.000000\n",
              "Giá nhà    755.687951  1511.181168  2266.674386"
            ]
          },
          "metadata": {},
          "execution_count": 40
        }
      ]
    },
    {
      "cell_type": "code",
      "metadata": {
        "id": "MGd7duhpOS2p"
      },
      "source": [
        ""
      ],
      "execution_count": null,
      "outputs": []
    }
  ]
}